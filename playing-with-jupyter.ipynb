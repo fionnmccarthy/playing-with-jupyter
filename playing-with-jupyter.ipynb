{
 "cells": [
  {
   "cell_type": "code",
   "execution_count": 1,
   "id": "e705b81d-a025-47cf-8d06-311928e3d3ae",
   "metadata": {},
   "outputs": [],
   "source": [
    "i=1\n",
    "j=2"
   ]
  },
  {
   "cell_type": "code",
   "execution_count": 2,
   "id": "895e66a1-f46f-40ed-8807-785255391043",
   "metadata": {},
   "outputs": [],
   "source": [
    "k=i+j"
   ]
  },
  {
   "cell_type": "code",
   "execution_count": 3,
   "id": "d0c00351-7b88-42ca-9476-4a6c848e9847",
   "metadata": {},
   "outputs": [
    {
     "data": {
      "text/plain": [
       "3"
      ]
     },
     "execution_count": 3,
     "metadata": {},
     "output_type": "execute_result"
    }
   ],
   "source": [
    "k"
   ]
  },
  {
   "cell_type": "code",
   "execution_count": 4,
   "id": "54256aa7-7f7f-445c-9053-f13cb27b6451",
   "metadata": {},
   "outputs": [
    {
     "ename": "SyntaxError",
     "evalue": "invalid syntax (<ipython-input-4-f93e6cb7ef6a>, line 3)",
     "output_type": "error",
     "traceback": [
      "\u001b[1;36m  File \u001b[1;32m\"<ipython-input-4-f93e6cb7ef6a>\"\u001b[1;36m, line \u001b[1;32m3\u001b[0m\n\u001b[1;33m    - I am a list\u001b[0m\n\u001b[1;37m        ^\u001b[0m\n\u001b[1;31mSyntaxError\u001b[0m\u001b[1;31m:\u001b[0m invalid syntax\n"
     ]
    }
   ],
   "source": [
    "# I am a heading\n",
    "\n",
    "- I am a list\n",
    "- I am a list \n",
    "\n",
    "![](https://s3.amazonaws.com/cdn-origin-etr.akc.org/wp-content/uploads/2018/01/12201051/cute-puppy-body-image.jpg)\n",
    "\n",
    "**Bold Text**"
   ]
  },
  {
   "cell_type": "markdown",
   "id": "e653d780-9408-48b5-bae0-3feee1466f72",
   "metadata": {},
   "source": [
    "# I am a heading\n",
    "\n",
    "- I am a list\n",
    "- I am a list \n",
    "\n",
    "![](https://s3.amazonaws.com/cdn-origin-etr.akc.org/wp-content/uploads/2018/01/12201051/cute-puppy-body-image.jpg)\n",
    "\n",
    "**Bold Text**"
   ]
  },
  {
   "cell_type": "code",
   "execution_count": null,
   "id": "dcea33ea-1cc4-4a56-9030-79272ea27143",
   "metadata": {},
   "outputs": [],
   "source": []
  }
 ],
 "metadata": {
  "kernelspec": {
   "display_name": "Python 3",
   "language": "python",
   "name": "python3"
  },
  "language_info": {
   "codemirror_mode": {
    "name": "ipython",
    "version": 3
   },
   "file_extension": ".py",
   "mimetype": "text/x-python",
   "name": "python",
   "nbconvert_exporter": "python",
   "pygments_lexer": "ipython3",
   "version": "3.8.8"
  }
 },
 "nbformat": 4,
 "nbformat_minor": 5
}
